{
 "cells": [
  {
   "cell_type": "markdown",
   "metadata": {},
   "source": [
    "# CATastrophe Model Evaluation\n",
    "\n",
    "Simple notebook to evaluate the model accuracy on test datasets."
   ]
  },
  {
   "cell_type": "code",
   "execution_count": 1,
   "metadata": {},
   "outputs": [],
   "source": [
    "# Import libraries\n",
    "import json\n",
    "import torch\n",
    "import numpy as np\n",
    "from huggingface_hub import hf_hub_download\n",
    "import pickle\n",
    "import sys\n",
    "import os\n",
    "from sklearn.metrics import classification_report, accuracy_score, roc_auc_score\n",
    "\n",
    "# Add src to path\n",
    "sys.path.insert(0, 'src')\n",
    "from catastrophe.model.autoencoder import Autoencoder"
   ]
  },
  {
   "cell_type": "code",
   "execution_count": 2,
   "metadata": {},
   "outputs": [
    {
     "name": "stdout",
     "output_type": "stream",
     "text": [
      "Loaded 10 safe commits\n",
      "Loaded 10 vulnerable commits\n"
     ]
    }
   ],
   "source": [
    "# Load test data\n",
    "with open('tests/test_data/safe_c_commits.json', 'r') as f:\n",
    "    safe_commits = json.load(f)\n",
    "    \n",
    "with open('tests/test_data/vulnerable_c_commits.json', 'r') as f:\n",
    "    vulnerable_commits = json.load(f)\n",
    "\n",
    "print(f\"Loaded {len(safe_commits)} safe commits\")\n",
    "print(f\"Loaded {len(vulnerable_commits)} vulnerable commits\")"
   ]
  },
  {
   "cell_type": "code",
   "execution_count": 3,
   "metadata": {},
   "outputs": [
    {
     "name": "stdout",
     "output_type": "stream",
     "text": [
      "Downloading model...\n",
      "Model downloaded!\n"
     ]
    }
   ],
   "source": [
    "# Download model from Hugging Face\n",
    "model_repo = \"ewhk9887/CATastrophe\"\n",
    "print(\"Downloading model...\")\n",
    "\n",
    "model_path = hf_hub_download(repo_id=model_repo, filename=\"catastrophe_model.pth\")\n",
    "vectorizer_path = hf_hub_download(repo_id=model_repo, filename=\"vectorizer.pkl\")\n",
    "\n",
    "print(\"Model downloaded!\")"
   ]
  },
  {
   "cell_type": "code",
   "execution_count": 4,
   "metadata": {},
   "outputs": [
    {
     "name": "stdout",
     "output_type": "stream",
     "text": [
      "Model loaded! Feature dimension: 2000, Device: cpu\n"
     ]
    }
   ],
   "source": [
    "# Load vectorizer and model\n",
    "with open(vectorizer_path, 'rb') as f:\n",
    "    vectorizer = pickle.load(f)\n",
    "\n",
    "feature_dim = vectorizer.get_feature_names_out().shape[0]\n",
    "device = torch.device('cuda' if torch.cuda.is_available() else 'cpu')\n",
    "\n",
    "model = Autoencoder(feature_dim)\n",
    "model.load_state_dict(torch.load(model_path, map_location=device))\n",
    "model = model.to(device)\n",
    "model.eval()\n",
    "\n",
    "print(f\"Model loaded! Feature dimension: {feature_dim}, Device: {device}\")"
   ]
  },
  {
   "cell_type": "code",
   "execution_count": 5,
   "metadata": {},
   "outputs": [],
   "source": [
    "# Define prediction function\n",
    "def predict_vulnerability(message, func, threshold=0.5):\n",
    "    text = f\"{message} {func}\"\n",
    "    features = vectorizer.transform([text]).toarray()\n",
    "    features_tensor = torch.tensor(features, dtype=torch.float32).to(device)\n",
    "    \n",
    "    with torch.no_grad():\n",
    "        reconstruction = model(features_tensor)\n",
    "    \n",
    "    mse = torch.nn.functional.mse_loss(reconstruction, features_tensor, reduction='none')\n",
    "    reconstruction_error = mse.mean(dim=1).item()\n",
    "    \n",
    "    return reconstruction_error > threshold, reconstruction_error"
   ]
  },
  {
   "cell_type": "code",
   "execution_count": 6,
   "metadata": {},
   "outputs": [
    {
     "name": "stdout",
     "output_type": "stream",
     "text": [
      "Evaluation complete!\n"
     ]
    }
   ],
   "source": [
    "# Evaluate model\n",
    "y_true = []\n",
    "y_pred = []\n",
    "y_scores = []\n",
    "\n",
    "# Test safe commits (label = 0)\n",
    "for commit in safe_commits:\n",
    "    is_vuln, score = predict_vulnerability(commit['message'], commit['func'])\n",
    "    y_true.append(0)\n",
    "    y_pred.append(1 if is_vuln else 0)\n",
    "    y_scores.append(score)\n",
    "\n",
    "# Test vulnerable commits (label = 1)\n",
    "for commit in vulnerable_commits:\n",
    "    is_vuln, score = predict_vulnerability(commit['message'], commit['func'])\n",
    "    y_true.append(1)\n",
    "    y_pred.append(1 if is_vuln else 0)\n",
    "    y_scores.append(score)\n",
    "\n",
    "print(\"Evaluation complete!\")"
   ]
  },
  {
   "cell_type": "code",
   "execution_count": 7,
   "metadata": {},
   "outputs": [
    {
     "name": "stdout",
     "output_type": "stream",
     "text": [
      "\n",
      "🎯 Model Accuracy: 50.0%\n",
      "\n",
      "Classification Report:\n",
      "              precision    recall  f1-score   support\n",
      "\n",
      "        Safe       0.50      1.00      0.67        10\n",
      "  Vulnerable       0.00      0.00      0.00        10\n",
      "\n",
      "    accuracy                           0.50        20\n",
      "   macro avg       0.25      0.50      0.33        20\n",
      "weighted avg       0.25      0.50      0.33        20\n",
      "\n",
      "\n",
      "📊 ROC AUC Score: 0.780\n"
     ]
    },
    {
     "name": "stderr",
     "output_type": "stream",
     "text": [
      "/home/max/max-env/lib/python3.13/site-packages/sklearn/metrics/_classification.py:1565: UndefinedMetricWarning: Precision is ill-defined and being set to 0.0 in labels with no predicted samples. Use `zero_division` parameter to control this behavior.\n",
      "  _warn_prf(average, modifier, f\"{metric.capitalize()} is\", len(result))\n",
      "/home/max/max-env/lib/python3.13/site-packages/sklearn/metrics/_classification.py:1565: UndefinedMetricWarning: Precision is ill-defined and being set to 0.0 in labels with no predicted samples. Use `zero_division` parameter to control this behavior.\n",
      "  _warn_prf(average, modifier, f\"{metric.capitalize()} is\", len(result))\n",
      "/home/max/max-env/lib/python3.13/site-packages/sklearn/metrics/_classification.py:1565: UndefinedMetricWarning: Precision is ill-defined and being set to 0.0 in labels with no predicted samples. Use `zero_division` parameter to control this behavior.\n",
      "  _warn_prf(average, modifier, f\"{metric.capitalize()} is\", len(result))\n"
     ]
    }
   ],
   "source": [
    "# Display results\n",
    "accuracy = accuracy_score(y_true, y_pred)\n",
    "print(f\"\\n🎯 Model Accuracy: {accuracy:.1%}\\n\")\n",
    "\n",
    "print(\"Classification Report:\")\n",
    "print(classification_report(y_true, y_pred, target_names=['Safe', 'Vulnerable']))\n",
    "\n",
    "# ROC AUC\n",
    "roc_auc = roc_auc_score(y_true, y_scores)\n",
    "print(f\"\\n📊 ROC AUC Score: {roc_auc:.3f}\")"
   ]
  },
  {
   "cell_type": "code",
   "execution_count": 8,
   "metadata": {},
   "outputs": [
    {
     "name": "stdout",
     "output_type": "stream",
     "text": [
      "\n",
      "🔍 Example Predictions:\n",
      "\n",
      "Vulnerable Code Examples:\n",
      "\n",
      "1. fix buffer overflow in string copy\n",
      "   Score: 0.0005\n",
      "   Predicted: ✅ Safe\n",
      "   Actual: ❌ Vulnerable\n",
      "\n",
      "2. add user authentication\n",
      "   Score: 0.0005\n",
      "   Predicted: ✅ Safe\n",
      "   Actual: ❌ Vulnerable\n",
      "\n",
      "3. implement sql query function\n",
      "   Score: 0.0005\n",
      "   Predicted: ✅ Safe\n",
      "   Actual: ❌ Vulnerable\n"
     ]
    }
   ],
   "source": [
    "# Show example predictions\n",
    "print(\"\\n🔍 Example Predictions:\\n\")\n",
    "print(\"Vulnerable Code Examples:\")\n",
    "for i in range(min(3, len(vulnerable_commits))):\n",
    "    commit = vulnerable_commits[i]\n",
    "    is_vuln, score = predict_vulnerability(commit['message'], commit['func'])\n",
    "    print(f\"\\n{i+1}. {commit['message']}\")\n",
    "    print(f\"   Score: {score:.4f}\")\n",
    "    print(f\"   Predicted: {'❌ Vulnerable' if is_vuln else '✅ Safe'}\")\n",
    "    print(f\"   Actual: ❌ Vulnerable\")"
   ]
  },
  {
   "cell_type": "code",
   "execution_count": 9,
   "metadata": {},
   "outputs": [
    {
     "name": "stdout",
     "output_type": "stream",
     "text": [
      "\n",
      "📋 Summary:\n",
      "- Model tested on 20 code samples\n",
      "- Accuracy: 50.0%\n",
      "- ROC AUC: 0.780\n",
      "\n",
      "Note: The model shows 50% accuracy, which indicates it needs improvement.\n",
      "The model appears to be classifying all samples as 'Safe', missing all vulnerable code.\n"
     ]
    }
   ],
   "source": [
    "# Summary\n",
    "print(\"\\n📋 Summary:\")\n",
    "print(f\"- Model tested on {len(y_true)} code samples\")\n",
    "print(f\"- Accuracy: {accuracy:.1%}\")\n",
    "print(f\"- ROC AUC: {roc_auc:.3f}\")\n",
    "print(f\"\\nNote: The model shows {accuracy:.0%} accuracy, which indicates it needs improvement.\")\n",
    "print(\"The model appears to be classifying all samples as 'Safe', missing all vulnerable code.\")"
   ]
  },
  {
   "cell_type": "code",
   "execution_count": null,
   "metadata": {},
   "outputs": [],
   "source": []
  },
  {
   "cell_type": "code",
   "execution_count": null,
   "metadata": {},
   "outputs": [],
   "source": []
  }
 ],
 "metadata": {
  "kernelspec": {
   "display_name": "Python 3 (ipykernel)",
   "language": "python",
   "name": "python3"
  },
  "language_info": {
   "codemirror_mode": {
    "name": "ipython",
    "version": 3
   },
   "file_extension": ".py",
   "mimetype": "text/x-python",
   "name": "python",
   "nbconvert_exporter": "python",
   "pygments_lexer": "ipython3",
   "version": "3.13.3"
  }
 },
 "nbformat": 4,
 "nbformat_minor": 4
}
